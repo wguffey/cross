{
 "cells": [
  {
   "cell_type": "code",
   "execution_count": null,
   "id": "fc34e948",
   "metadata": {},
   "outputs": [
    {
     "ename": "ValueError",
     "evalue": "Node names and attributes should not contain \":\" unless they are quoted with \"\".                For example the string 'attribute:data1' should be written as '\"attribute:data1\"'.                Please refer https://github.com/pydot/pydot/issues/258",
     "output_type": "error",
     "traceback": [
      "\u001b[0;31m---------------------------------------------------------------------------\u001b[0m",
      "\u001b[0;31mValueError\u001b[0m                                Traceback (most recent call last)",
      "Cell \u001b[0;32mIn[3], line 9\u001b[0m\n\u001b[1;32m      5\u001b[0m \u001b[38;5;66;03m# If you don’t have graphviz, replace with nx.spring_layout\u001b[39;00m\n\u001b[1;32m      7\u001b[0m G \u001b[38;5;241m=\u001b[39m nx\u001b[38;5;241m.\u001b[39mread_graphml(\u001b[38;5;124m\"\u001b[39m\u001b[38;5;124mcomputer_arch_curriculum.graphml\u001b[39m\u001b[38;5;124m\"\u001b[39m)\n\u001b[0;32m----> 9\u001b[0m pos \u001b[38;5;241m=\u001b[39m \u001b[43mgraphviz_layout\u001b[49m\u001b[43m(\u001b[49m\u001b[43mG\u001b[49m\u001b[43m,\u001b[49m\u001b[43m \u001b[49m\u001b[43mprog\u001b[49m\u001b[38;5;241;43m=\u001b[39;49m\u001b[38;5;124;43m\"\u001b[39;49m\u001b[38;5;124;43mdot\u001b[39;49m\u001b[38;5;124;43m\"\u001b[39;49m\u001b[43m)\u001b[49m\n\u001b[1;32m     10\u001b[0m type_colors \u001b[38;5;241m=\u001b[39m {\n\u001b[1;32m     11\u001b[0m     \u001b[38;5;124m\"\u001b[39m\u001b[38;5;124mtopic\u001b[39m\u001b[38;5;124m\"\u001b[39m: \u001b[38;5;124m\"\u001b[39m\u001b[38;5;124m#1f77b4\u001b[39m\u001b[38;5;124m\"\u001b[39m,\n\u001b[1;32m     12\u001b[0m     \u001b[38;5;124m\"\u001b[39m\u001b[38;5;124mflashcards\u001b[39m\u001b[38;5;124m\"\u001b[39m: \u001b[38;5;124m\"\u001b[39m\u001b[38;5;124m#ff7f0e\u001b[39m\u001b[38;5;124m\"\u001b[39m,\n\u001b[1;32m     13\u001b[0m     \u001b[38;5;124m\"\u001b[39m\u001b[38;5;124massessment\u001b[39m\u001b[38;5;124m\"\u001b[39m: \u001b[38;5;124m\"\u001b[39m\u001b[38;5;124m#2ca02c\u001b[39m\u001b[38;5;124m\"\u001b[39m,\n\u001b[1;32m     14\u001b[0m     \u001b[38;5;124m\"\u001b[39m\u001b[38;5;124mproject\u001b[39m\u001b[38;5;124m\"\u001b[39m: \u001b[38;5;124m\"\u001b[39m\u001b[38;5;124m#d62728\u001b[39m\u001b[38;5;124m\"\u001b[39m,\n\u001b[1;32m     15\u001b[0m }\n\u001b[1;32m     16\u001b[0m \u001b[38;5;28;01mfor\u001b[39;00m t, c \u001b[38;5;129;01min\u001b[39;00m type_colors\u001b[38;5;241m.\u001b[39mitems():\n",
      "File \u001b[0;32m~/miniconda3/lib/python3.12/site-packages/networkx/drawing/nx_pydot.py:322\u001b[0m, in \u001b[0;36mgraphviz_layout\u001b[0;34m(G, prog, root)\u001b[0m\n\u001b[1;32m    292\u001b[0m \u001b[38;5;28;01mdef\u001b[39;00m \u001b[38;5;21mgraphviz_layout\u001b[39m(G, prog\u001b[38;5;241m=\u001b[39m\u001b[38;5;124m\"\u001b[39m\u001b[38;5;124mneato\u001b[39m\u001b[38;5;124m\"\u001b[39m, root\u001b[38;5;241m=\u001b[39m\u001b[38;5;28;01mNone\u001b[39;00m):\n\u001b[1;32m    293\u001b[0m \u001b[38;5;250m    \u001b[39m\u001b[38;5;124;03m\"\"\"Create node positions using Pydot and Graphviz.\u001b[39;00m\n\u001b[1;32m    294\u001b[0m \n\u001b[1;32m    295\u001b[0m \u001b[38;5;124;03m    Returns a dictionary of positions keyed by node.\u001b[39;00m\n\u001b[0;32m   (...)\u001b[0m\n\u001b[1;32m    320\u001b[0m \u001b[38;5;124;03m    This is a wrapper for pydot_layout.\u001b[39;00m\n\u001b[1;32m    321\u001b[0m \u001b[38;5;124;03m    \"\"\"\u001b[39;00m\n\u001b[0;32m--> 322\u001b[0m     \u001b[38;5;28;01mreturn\u001b[39;00m \u001b[43mpydot_layout\u001b[49m\u001b[43m(\u001b[49m\u001b[43mG\u001b[49m\u001b[38;5;241;43m=\u001b[39;49m\u001b[43mG\u001b[49m\u001b[43m,\u001b[49m\u001b[43m \u001b[49m\u001b[43mprog\u001b[49m\u001b[38;5;241;43m=\u001b[39;49m\u001b[43mprog\u001b[49m\u001b[43m,\u001b[49m\u001b[43m \u001b[49m\u001b[43mroot\u001b[49m\u001b[38;5;241;43m=\u001b[39;49m\u001b[43mroot\u001b[49m\u001b[43m)\u001b[49m\n",
      "File \u001b[0;32m~/miniconda3/lib/python3.12/site-packages/networkx/drawing/nx_pydot.py:365\u001b[0m, in \u001b[0;36mpydot_layout\u001b[0;34m(G, prog, root)\u001b[0m\n\u001b[1;32m    326\u001b[0m \u001b[38;5;250m\u001b[39m\u001b[38;5;124;03m\"\"\"Create node positions using :mod:`pydot` and Graphviz.\u001b[39;00m\n\u001b[1;32m    327\u001b[0m \n\u001b[1;32m    328\u001b[0m \u001b[38;5;124;03mParameters\u001b[39;00m\n\u001b[0;32m   (...)\u001b[0m\n\u001b[1;32m    361\u001b[0m \n\u001b[1;32m    362\u001b[0m \u001b[38;5;124;03m\"\"\"\u001b[39;00m\n\u001b[1;32m    363\u001b[0m \u001b[38;5;28;01mimport\u001b[39;00m \u001b[38;5;21;01mpydot\u001b[39;00m\n\u001b[0;32m--> 365\u001b[0m P \u001b[38;5;241m=\u001b[39m \u001b[43mto_pydot\u001b[49m\u001b[43m(\u001b[49m\u001b[43mG\u001b[49m\u001b[43m)\u001b[49m\n\u001b[1;32m    366\u001b[0m \u001b[38;5;28;01mif\u001b[39;00m root \u001b[38;5;129;01mis\u001b[39;00m \u001b[38;5;129;01mnot\u001b[39;00m \u001b[38;5;28;01mNone\u001b[39;00m:\n\u001b[1;32m    367\u001b[0m     P\u001b[38;5;241m.\u001b[39mset(\u001b[38;5;124m\"\u001b[39m\u001b[38;5;124mroot\u001b[39m\u001b[38;5;124m\"\u001b[39m, \u001b[38;5;28mstr\u001b[39m(root))\n",
      "File \u001b[0;32m~/miniconda3/lib/python3.12/site-packages/networkx/drawing/nx_pydot.py:236\u001b[0m, in \u001b[0;36mto_pydot\u001b[0;34m(N)\u001b[0m\n\u001b[1;32m    229\u001b[0m raise_error \u001b[38;5;241m=\u001b[39m _check_colon_quotes(n) \u001b[38;5;129;01mor\u001b[39;00m (\n\u001b[1;32m    230\u001b[0m     \u001b[38;5;28many\u001b[39m(\n\u001b[1;32m    231\u001b[0m         (_check_colon_quotes(k) \u001b[38;5;129;01mor\u001b[39;00m _check_colon_quotes(v))\n\u001b[1;32m    232\u001b[0m         \u001b[38;5;28;01mfor\u001b[39;00m k, v \u001b[38;5;129;01min\u001b[39;00m str_nodedata\u001b[38;5;241m.\u001b[39mitems()\n\u001b[1;32m    233\u001b[0m     )\n\u001b[1;32m    234\u001b[0m )\n\u001b[1;32m    235\u001b[0m \u001b[38;5;28;01mif\u001b[39;00m raise_error:\n\u001b[0;32m--> 236\u001b[0m     \u001b[38;5;28;01mraise\u001b[39;00m \u001b[38;5;167;01mValueError\u001b[39;00m(\n\u001b[1;32m    237\u001b[0m         \u001b[38;5;124mf\u001b[39m\u001b[38;5;124m'\u001b[39m\u001b[38;5;124mNode names and attributes should not contain \u001b[39m\u001b[38;5;124m\"\u001b[39m\u001b[38;5;124m:\u001b[39m\u001b[38;5;124m\"\u001b[39m\u001b[38;5;124m unless they are quoted with \u001b[39m\u001b[38;5;124m\"\u001b[39m\u001b[38;5;124m\"\u001b[39m\u001b[38;5;124m.\u001b[39m\u001b[38;5;130;01m\\\u001b[39;00m\n\u001b[1;32m    238\u001b[0m \u001b[38;5;124m        For example the string \u001b[39m\u001b[38;5;130;01m\\'\u001b[39;00m\u001b[38;5;124mattribute:data1\u001b[39m\u001b[38;5;130;01m\\'\u001b[39;00m\u001b[38;5;124m should be written as \u001b[39m\u001b[38;5;130;01m\\'\u001b[39;00m\u001b[38;5;124m\"\u001b[39m\u001b[38;5;124mattribute:data1\u001b[39m\u001b[38;5;124m\"\u001b[39m\u001b[38;5;130;01m\\'\u001b[39;00m\u001b[38;5;124m.\u001b[39m\u001b[38;5;130;01m\\\u001b[39;00m\n\u001b[1;32m    239\u001b[0m \u001b[38;5;124m        Please refer https://github.com/pydot/pydot/issues/258\u001b[39m\u001b[38;5;124m'\u001b[39m\n\u001b[1;32m    240\u001b[0m     )\n\u001b[1;32m    241\u001b[0m p \u001b[38;5;241m=\u001b[39m pydot\u001b[38;5;241m.\u001b[39mNode(n, \u001b[38;5;241m*\u001b[39m\u001b[38;5;241m*\u001b[39mstr_nodedata)\n\u001b[1;32m    242\u001b[0m P\u001b[38;5;241m.\u001b[39madd_node(p)\n",
      "\u001b[0;31mValueError\u001b[0m: Node names and attributes should not contain \":\" unless they are quoted with \"\".                For example the string 'attribute:data1' should be written as '\"attribute:data1\"'.                Please refer https://github.com/pydot/pydot/issues/258"
     ]
    }
   ],
   "source": [
    "import networkx as nx\n",
    "import matplotlib.pyplot as plt\n",
    "from networkx.drawing.nx_pydot import graphviz_layout\n",
    "\n",
    "# If you don’t have graphviz, replace with nx.spring_layout\n",
    "\n",
    "G = nx.read_graphml(\"computer_arch_curriculum.graphml\")\n",
    "\n",
    "quoted = nx.relabel_nodes(G, {n: f'\"{n}\"' for n in G.nodes()}, copy=True)\n",
    "pos = graphviz_layout(quoted, prog=\"dot\", args=[\"-Grankdir=LR\"])\n",
    "type_colors = {\n",
    "    \"topic\": \"#1f77b4\",\n",
    "    \"flashcards\": \"#ff7f0e\",\n",
    "    \"assessment\": \"#2ca02c\",\n",
    "    \"project\": \"#d62728\",\n",
    "}\n",
    "for t, c in type_colors.items():\n",
    "    nx.draw_networkx_nodes(\n",
    "        G,\n",
    "        pos,\n",
    "        nodelist=[n for n, d in G.nodes(data=True) if d[\"type\"] == t],\n",
    "        node_color=c,\n",
    "        node_size=120,\n",
    "        label=t,\n",
    "    )\n",
    "nx.draw_networkx_edges(G, pos, arrows=True, arrowstyle=\"-|>\", width=0.4)\n",
    "nx.draw_networkx_labels(G, pos, font_size=7)\n",
    "plt.legend(scatterpoints=1)\n",
    "plt.axis(\"off\")\n",
    "plt.tight_layout()\n",
    "plt.show()"
   ]
  },
  {
   "cell_type": "code",
   "execution_count": null,
   "id": "13b469e2",
   "metadata": {},
   "outputs": [],
   "source": []
  }
 ],
 "metadata": {
  "kernelspec": {
   "display_name": "base",
   "language": "python",
   "name": "python3"
  },
  "language_info": {
   "codemirror_mode": {
    "name": "ipython",
    "version": 3
   },
   "file_extension": ".py",
   "mimetype": "text/x-python",
   "name": "python",
   "nbconvert_exporter": "python",
   "pygments_lexer": "ipython3",
   "version": "3.12.1"
  }
 },
 "nbformat": 4,
 "nbformat_minor": 5
}
